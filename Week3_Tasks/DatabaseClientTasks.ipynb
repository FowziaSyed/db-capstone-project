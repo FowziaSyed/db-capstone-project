{
 "cells": [
  {
   "cell_type": "markdown",
   "id": "f47ab6c5-092d-486f-932e-444d287dc116",
   "metadata": {},
   "source": [
    "TASK1:"
   ]
  },
  {
   "cell_type": "markdown",
   "id": "9f4549f3-705b-4dcd-ad79-1954d819f6f2",
   "metadata": {},
   "source": [
    "----->>> Importing the mysql connector"
   ]
  },
  {
   "cell_type": "code",
   "execution_count": 2,
   "id": "ee8a05e7-6972-49c3-b0f2-0f57cad412d2",
   "metadata": {},
   "outputs": [],
   "source": [
    "import mysql.connector as connector"
   ]
  },
  {
   "cell_type": "markdown",
   "id": "6368677c-d452-4b26-b7a8-ec163733892b",
   "metadata": {},
   "source": [
    "----->>> connected to the littlelemondb with the connection object with the user and password "
   ]
  },
  {
   "cell_type": "code",
   "execution_count": 4,
   "id": "041d9b62-f95b-4947-97df-80816696ee84",
   "metadata": {},
   "outputs": [],
   "source": [
    "connection = connector.connect(user = \"root\", password = \"abc@\",db=\"littlelemondb\")"
   ]
  },
  {
   "cell_type": "markdown",
   "id": "28cdb272-9de9-48b4-8b8d-86b389d69636",
   "metadata": {},
   "source": [
    "----->>> created the cursor object"
   ]
  },
  {
   "cell_type": "code",
   "execution_count": 5,
   "id": "136cb90e-1cc7-4f8d-bdc6-483b19f904c6",
   "metadata": {},
   "outputs": [],
   "source": [
    "cursor=connection.cursor()"
   ]
  },
  {
   "cell_type": "markdown",
   "id": "21baba36-a9ed-45a4-b769-25b7e110fa6d",
   "metadata": {},
   "source": [
    "TASK2:"
   ]
  },
  {
   "cell_type": "code",
   "execution_count": null,
   "id": "f24eb526-6287-41d2-994f-68a01db7630d",
   "metadata": {},
   "outputs": [],
   "source": [
    "----->>> executing the query through cursor "
   ]
  },
  {
   "cell_type": "code",
   "execution_count": 6,
   "id": "8721189c-86bb-46bc-be40-3aaf6c76a2c9",
   "metadata": {},
   "outputs": [],
   "source": [
    "show_tables_query = \"SHOW tables\" \n",
    "cursor.execute(show_tables_query)"
   ]
  },
  {
   "cell_type": "code",
   "execution_count": null,
   "id": "f444a5be-371f-42fc-a934-096ea3e55851",
   "metadata": {},
   "outputs": [],
   "source": [
    "----->>> fetching the records from cursor into results object and printing the table names"
   ]
  },
  {
   "cell_type": "code",
   "execution_count": 7,
   "id": "8c5d72b4-4dea-42e1-a370-82135200376c",
   "metadata": {},
   "outputs": [],
   "source": [
    "results=cursor.fetchall()"
   ]
  },
  {
   "cell_type": "code",
   "execution_count": 8,
   "id": "e80f7c02-edaf-48cc-bec8-3dd96f33fe46",
   "metadata": {},
   "outputs": [
    {
     "name": "stdout",
     "output_type": "stream",
     "text": [
      "[('bookings',), ('customers',), ('delivery',), ('menu',), ('menulist',), ('orders',), ('staffdetails',)]\n"
     ]
    }
   ],
   "source": [
    "print(results)"
   ]
  },
  {
   "cell_type": "markdown",
   "id": "4e2ec2f7-2cb5-4213-ba36-04e2cb33e768",
   "metadata": {},
   "source": [
    "TASK3:\n",
    "\n",
    "executing the join query "
   ]
  },
  {
   "cell_type": "code",
   "execution_count": 10,
   "id": "633d5b12-b67a-4808-a11e-cb39ca69715e",
   "metadata": {},
   "outputs": [],
   "source": [
    "Join_query=\"\"\"select customers.CustomerName,customers.ContactNumber,orders.TotalCost \n",
    "from customers inner join orders on customers.CustomerID=orders.CustomerID where orders.TotalCost>60;\"\"\"\n",
    "\n",
    "cursor.execute(Join_query)"
   ]
  },
  {
   "cell_type": "markdown",
   "id": "c484a4f3-4c6c-4c3e-b940-70a94366794b",
   "metadata": {},
   "source": [
    "----->>> fetching the records into results and printing the output"
   ]
  },
  {
   "cell_type": "code",
   "execution_count": 11,
   "id": "822f1e5f-b0f8-457a-bbf4-95383eb13972",
   "metadata": {},
   "outputs": [],
   "source": [
    "results=cursor.fetchall()"
   ]
  },
  {
   "cell_type": "code",
   "execution_count": 13,
   "id": "dd3f07c2-a255-4e69-870e-43d9db75f23d",
   "metadata": {},
   "outputs": [
    {
     "name": "stdout",
     "output_type": "stream",
     "text": [
      "('CustomerName', 'ContactNumber', 'TotalCost')\n",
      "('Diana Pinto', '351584508', 150)\n",
      "('Vanessa McCarthy', '351970582', 200)\n",
      "('Joakim Iversen', '351474048', 250)\n",
      "('Marcos Romero', '351963569', 300)\n",
      "('Anna Iversen', '351258074', 100)\n"
     ]
    }
   ],
   "source": [
    "print(cursor.column_names)\n",
    "\n",
    "for row in results:\n",
    "    print(row)"
   ]
  },
  {
   "cell_type": "code",
   "execution_count": 14,
   "id": "14b80259-ae67-406b-9fdc-ccbc12d3cc2a",
   "metadata": {},
   "outputs": [],
   "source": [
    "connection.close()"
   ]
  }
 ],
 "metadata": {
  "kernelspec": {
   "display_name": "Python 3 (ipykernel)",
   "language": "python",
   "name": "python3"
  },
  "language_info": {
   "codemirror_mode": {
    "name": "ipython",
    "version": 3
   },
   "file_extension": ".py",
   "mimetype": "text/x-python",
   "name": "python",
   "nbconvert_exporter": "python",
   "pygments_lexer": "ipython3",
   "version": "3.12.1"
  }
 },
 "nbformat": 4,
 "nbformat_minor": 5
}
